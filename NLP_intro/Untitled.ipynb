{
 "cells": [
  {
   "cell_type": "markdown",
   "metadata": {},
   "source": [
    "# Intro to Natural language Processing\n",
    "In this notebook, we'll start using Python's RegEx package and do a simple natural language processing exercise."
   ]
  },
  {
   "cell_type": "markdown",
   "metadata": {},
   "source": [
    "## What are Strings?\n",
    "Strings are a type of data usually used to store text. They are different from other data types in python like integers, lists, or dictionaries. In python, they are usually enclosed by parantheses, either \"\" or ''. When checking an object's type, if it is a string, you'll see `str`. Integers will display `int`."
   ]
  },
  {
   "cell_type": "code",
   "execution_count": 2,
   "metadata": {},
   "outputs": [
    {
     "data": {
      "text/plain": [
       "str"
      ]
     },
     "execution_count": 2,
     "metadata": {},
     "output_type": "execute_result"
    }
   ],
   "source": [
    "# Check this object's type\n",
    "type(\"hello world!\")"
   ]
  },
  {
   "cell_type": "code",
   "execution_count": 3,
   "metadata": {},
   "outputs": [
    {
     "data": {
      "text/plain": [
       "int"
      ]
     },
     "execution_count": 3,
     "metadata": {},
     "output_type": "execute_result"
    }
   ],
   "source": [
    "# Check this object's type\n",
    "type(342)"
   ]
  },
  {
   "cell_type": "markdown",
   "metadata": {},
   "source": [
    "Strings can also be combined into objects like lists and dictionaries. Lists are just that, a combination of objects like a bunch of strings or a bunch of numbers. They are enclosed in brackets [ ]. Dictionaries are kind of like lists, but instead of string information like this:\n",
    "\n",
    "* Capucchino\n",
    "* Latte\n",
    "* Chai\n",
    "\n",
    "it can store pairs of objects linked together, kind of like this:\n",
    "\n",
    "Key | Value\n",
    "--- | ---\n",
    "one: | you're like a dream come true\n",
    "two: | just wanna be with you\n",
    "three: | you know it's plain to see, that you're the only one for me\n",
    "\n",
    "Dictionaries are inside of curly brackets { }."
   ]
  },
  {
   "cell_type": "code",
   "execution_count": 4,
   "metadata": {},
   "outputs": [
    {
     "name": "stdout",
     "output_type": "stream",
     "text": [
      "<class 'list'>\n",
      "<class 'dict'>\n"
     ]
    }
   ],
   "source": [
    "print(type([\"Capucchino\", \"Latte\", \"Chai\"]))\n",
    "print(type({\"one\":\"you're like a dream come true\", \"two\": \"just wanna be with you\", \"three\": \"you know it's plain to see, that you're the only one for me\"}))"
   ]
  },
  {
   "cell_type": "markdown",
   "metadata": {},
   "source": [
    "## What's RegEx?\n",
    "Regular expressions, or RegEx are a way to parse strings to make them more useful to a computer program. For example, we might want to separate a paragraph into separate sentences to assess average sentence length, or parse a text into separate words to do a word frequency analysis or remove unwanted common words like \"to\" and \"the\" that don't give us the information we want.\n",
    "\n",
    "We can do things like match a substring, or search for a substring within another string."
   ]
  },
  {
   "cell_type": "code",
   "execution_count": 5,
   "metadata": {},
   "outputs": [
    {
     "data": {
      "text/plain": [
       "<_sre.SRE_Match object; span=(0, 3), match='You'>"
      ]
     },
     "execution_count": 5,
     "metadata": {},
     "output_type": "execute_result"
    }
   ],
   "source": [
    "#import regex\n",
    "import re\n",
    "re.match(\"You\", \"You know nothing John Snow.\")"
   ]
  },
  {
   "cell_type": "code",
   "execution_count": 6,
   "metadata": {},
   "outputs": [
    {
     "data": {
      "text/plain": [
       "<_sre.SRE_Match object; span=(0, 6), match='Winter'>"
      ]
     },
     "execution_count": 6,
     "metadata": {},
     "output_type": "execute_result"
    }
   ],
   "source": [
    "re.search(\"Winter\", \"Winter is coming.\")"
   ]
  },
  {
   "cell_type": "markdown",
   "metadata": {},
   "source": [
    "The difference between `match` and `search` is that `match` will see if the two strings match *from the very beginning,* whereas the search will search for the first string anywhere within the second string."
   ]
  },
  {
   "cell_type": "code",
   "execution_count": 7,
   "metadata": {},
   "outputs": [],
   "source": [
    "re.match(\"know\", \"You know nothing John Snow.\")"
   ]
  },
  {
   "cell_type": "code",
   "execution_count": 8,
   "metadata": {},
   "outputs": [
    {
     "data": {
      "text/plain": [
       "<_sre.SRE_Match object; span=(7, 9), match='is'>"
      ]
     },
     "execution_count": 8,
     "metadata": {},
     "output_type": "execute_result"
    }
   ],
   "source": [
    "re.search(\"is\", \"Winter is coming.\")"
   ]
  },
  {
   "cell_type": "markdown",
   "metadata": {},
   "source": [
    "## RegEx Patterns\n",
    "RegEx also allows us to perform operations on certain classes of strings. for example, '\\w+' searches for words."
   ]
  },
  {
   "cell_type": "code",
   "execution_count": 9,
   "metadata": {},
   "outputs": [
    {
     "data": {
      "text/plain": [
       "<_sre.SRE_Match object; span=(0, 2), match='Is'>"
      ]
     },
     "execution_count": 9,
     "metadata": {},
     "output_type": "execute_result"
    }
   ],
   "source": [
    "word = '\\w+'\n",
    "re.search(word, \"Is it too late now to say sorry?\")"
   ]
  },
  {
   "cell_type": "markdown",
   "metadata": {},
   "source": [
    "Here are some common RegEx patterns:\n",
    "    \n",
    "pattern | matches | example\n",
    "--- | --- | ---\n",
    "\\w+ | word | \"Bieber\"\n",
    "\\d | digits | 250624\n",
    "\\s | spaces | ' '\n",
    ".\\* | matches anything | 25or6to4\n",
    "+ or \\* | allows matching to the end of a string or pattern | 'Aaaaaaaaaaaa'\n",
    "\n",
    "Capitalizing something negates it.  For example \\S would return anything that is NOT a space. You can also create a range of characters with square brackets:\n",
    "\n",
    "pattern | matches | example\n",
    "--- | --- | ---\n",
    "[a-z] | lowercase group | \"sorry\"\n",
    "[A-Za-z@.] | upper, lower case letters, at sign, and period | MyEmail@bah.com\n",
    "\n",
    "Run the code below to split the string below, on spaces, into separate words:"
   ]
  },
  {
   "cell_type": "code",
   "execution_count": 12,
   "metadata": {},
   "outputs": [
    {
     "data": {
      "text/plain": [
       "['The',\n",
       " 'baristas',\n",
       " 'in',\n",
       " 'this',\n",
       " 'coffee',\n",
       " 'shop',\n",
       " 'are',\n",
       " 'playing',\n",
       " 'a',\n",
       " 'lot',\n",
       " 'of',\n",
       " 'Bieber.']"
      ]
     },
     "execution_count": 12,
     "metadata": {},
     "output_type": "execute_result"
    }
   ],
   "source": [
    "re.split('\\s+', \"The baristas in this coffee shop are playing a lot of Bieber.\")"
   ]
  },
  {
   "cell_type": "markdown",
   "metadata": {},
   "source": [
    "## Getting Started Processing Text\n",
    "Now we'll get started processing text with `re.split()` and `re.findall()`. Please complete and run the cell below."
   ]
  },
  {
   "cell_type": "code",
   "execution_count": 23,
   "metadata": {},
   "outputs": [
    {
     "name": "stdout",
     "output_type": "stream",
     "text": [
      "['Congrats on your first RegEx split', '  How was it', '  Hopefully not too difficult', '  Can you find 5 sentences', '']\n",
      "['Congrats', 'RegEx', 'How', 'Hopefully', 'Can']\n",
      "['Congrats', 'on', 'your', 'first', 'RegEx', 'split!', 'How', 'was', 'it?', 'Hopefully', 'not', 'too', 'difficult.', 'Can', 'you', 'find', '5', 'sentences?']\n",
      "['5']\n"
     ]
    }
   ],
   "source": [
    "first_string = \"Congrats on your first RegEx split!  How was it?  Hopefully not too difficult.  Can you find 5 sentences?\"\n",
    "\n",
    "# TO DO: Write a regular expression to identify the sentence endings \"!, ?, and .\". \n",
    "## To do this, first type \"r\" to make sure the period registers as a period\n",
    "## instead of being read as the \"match anything\" symbol. Right after the r, with\n",
    "## no spaces, type your brackets, and put the three sentence end symbols inside\n",
    "## the brackets with no spaces or commas.\n",
    "sentence_endings = r\"[!+?+.+]\"\n",
    "\n",
    "# Next, split the string \"first_string\" into sentences based on the sentence_endings \n",
    "## expression you just created, and print the result. The split function will take\n",
    "## 2 inputs inside the inner parentheses, and these two inputs will be separated by \n",
    "## the comma. The first object will be the name of the regular expression you created above\n",
    "## and the second input will be my_string.\n",
    "print(re.split(sentence_endings, first_string))\n",
    "\n",
    "# Find all capitalized words in my_string and print the result. First create the range of \n",
    "## capital characters inside the brackets, then follow it imediately, no spaces, with\n",
    "## the RegEx pattern for words, all inside the quotation marks.\n",
    "capitalized_words = r\"[A-Z]\\w+\"\n",
    "print(re.findall(capitalized_words, first_string))\n",
    "\n",
    "# Now split my_string on spaces and print the result. Remember the spaces RegEx pattern and put it in the quotes\n",
    "spaces = r\"\\s+\"\n",
    "print(re.split(spaces, first_string))\n",
    "\n",
    "# Find all digits in my_string and print the result\n",
    "digits = r\"\\d\"\n",
    "print(re.findall(digits, first_string))"
   ]
  },
  {
   "cell_type": "markdown",
   "metadata": {},
   "source": [
    "## Importing a File and Tokenization\n",
    "Now we're going to import a text file, the first chapter of Pride and Prejudice, and parse the chapter into individual sentences and words. This parsing is called \"tokenization\" because it returns an array of the individual words or sentences, and we can conduct future operations and analysis on those arrays."
   ]
  },
  {
   "cell_type": "code",
   "execution_count": 3,
   "metadata": {},
   "outputs": [
    {
     "name": "stdout",
     "output_type": "stream",
     "text": [
      "[nltk_data] Downloading package punkt to\n",
      "[nltk_data]     /Users/brianfriederich/nltk_data...\n",
      "[nltk_data]   Package punkt is already up-to-date!\n",
      "['Mr.', 'Bennet', 'replied', 'that', 'he', 'had', 'not', '.']\n"
     ]
    }
   ],
   "source": [
    "# Import packages. Don't worry aobut these too much right now.\n",
    "import nltk\n",
    "nltk.download('punkt')\n",
    "\n",
    "# TO DO: Import sent_tokenize from nltk.tokenize and then import word_tokenize from nltk.tokenize\n",
    "from import \n",
    "from import \n",
    "\n",
    "# TO DO: Import text file of Pride and Prejudice, chapter one by typing the file name \n",
    "## \"pride_and_prejudice.txt\" inside the first set of parentheses.\n",
    "chapter_one = open(\"\", \"rb\").read()\n",
    "\n",
    "# TO DO: Split chapter_one into sentences by typing chapter_one inside of the parantheses\n",
    "sentences = sent_tokenize()\n",
    "\n",
    "# TO DO: Use word_tokenize to tokenize the fourth sentence by putting a 3 inside the brackets, \n",
    "## and print. Note: many computer programs count from 0, not 1.  Therefore, the first sentence \n",
    "## would be indexed 0, the second would be indexed 1, etc.\n",
    "tokenized_sent = word_tokenize(sentences[])\n",
    "print(tokenized_sent)"
   ]
  },
  {
   "cell_type": "code",
   "execution_count": 4,
   "metadata": {},
   "outputs": [
    {
     "name": "stdout",
     "output_type": "stream",
     "text": [
      "set(['all', 'consider', 'four', 'go', 'children', 'certainly', 'young', 'send', 'to', 'fancied', 'woman', 'returned', 'very', 'none', 'Mrs.', 'fall', 'affect', 'large', 'quick', 'says', 'Long', 'surrounding', 'likely', 'design', 'Jane', 'odd', 'what', 'over-scrupulous', 'giving', ';', 'told', 'men', 'here', 'understanding', 'let', 'others', 'consideration', 'My', 'settling', 'engage', 'impatiently', 'experience', 'Lizzy', 'love', 'humour', 'merely', 'When', 'feelings', 'use', 'from', 'would', 'visit', 'by', 'fortune', 'live', 'therefore', 'Michaelmas', 'recommend', 'taken', 'themselves', 'tell', 'more', 'possession', '``', 'ignorant', 'known', 'cases', 'glad', 'must', 'me', 'account', 'word', 'this', 'pretend', 'can', 'servants', 'my', 'give', 'share', 'high', 'heard', 'Mr.', 'mixture', 'something', 'want', '!', 'information', 'end', 'compassion', 'answer', 'establishment', 'Why', 'A', 'Lucas', 'beauty', 'may', 'abuse', 'such', 'man', 'a', 'lines', 'so', 'talk', 'replied', 'What', 'indeed', 'over', 'soon', 'years', 'suffer', 'its', 'before', 'solace', 'how', ',', 'better', 'might', 'them', 'good', 'views', 'sarcastic', 'delighted', 'mention', 'She', 'they', 'half', 'not', 'now', 'day', 'nor', 'name', 'Indeed', 'truth', 'mean', 'house', 'entering', 'year', 'our', 'neighbourhood', 'since', 'William', 'tiresome', 'This', 'extraordinary', 'surely', 'universally', 'caprice', 'thing', 'place', 'invitation', 'think', 'first', 'hearing', 'impossible', 'little', 'Monday', 'twenty', 'girls', 'least', 'their', 'that', 'herself', 'than', 'Only', 'determined', 'silly', 'and', 'Depend', 'acknowledged', 'mind', 'say', 'have', 'any', 'Do', 'take', 'They', 'chaise', 'sure', 'though', 'who', 'vexing', 'said', 'The', 'considered', 'occasion', 'came', 'reserve', 'agreed', 'fine', 'one', 'cried', 'nervous', 'should', 'consent', 'handsome', 'hope', 'do', 'his', 'get', 'him', 'married', 'she', 'fixed', 'see', 'are', 'Netherfield', 'best', 'still', 'visiting', 'Park', 'enough', 'news', 'come', 'last', 'many', 'minds', 'assure', 'Design', 'chuses', 'comes', 'Her', 'character', 'respect', 'But', '.', 'much', 'life', 'families', 'thousand', 'understand', 'an', 'uncertain', 'these', 'as', 'will', 'good-humoured', 'property', 'mistake', 'is', 'it', 'in', 'You', 'if', 'perhaps', 'make', 'parts', 'party', 'daughters', 'difficult', 'week', 'I', 'upon', 'delight', 'Morris', 'sisters', 'grown-up', 'Is', 'well', 'It', 'hearty', 'In', 'the', 'preference', 'just', 'less', 'thinking', 'marrying', 'had', 'has', 'ought', 'which', 'Oh', 'quickness', 'whichever', 'five', 'know', 'three-and-twenty', 'immediately', 'bit', 'lady', 'dare', 'desire', 'England', 'like', 'always', 'nerves', 'old', 'often', 'flatter', 'some', 'dear', 'for', 'However', '?', 'be', 'business', 'Bingley', 'throw', 'on', 'about', 'discontented', 'of', 'insufficient', 'or', 'own', 'into', 'nonsense', 'Bennet', 'down', 'been', 'next', 'your', 'her', 'few', 'there', 'Lydia', 'way', ':', 'was', 'north', 'but', 'with', 'he', 'made', 'us', 'temper', 'Sir', 'am', 'general', \"''\", 'How', 'single', 'new-comers', 'at', 'no', 'objection', 'when', 'other', 'you', 'Lady', 'poor', 'develope', 'friends', 'rightful', 'wife', 'Ah'])\n"
     ]
    }
   ],
   "source": [
    "# TO DO: Make a set of unique tokens in the entire scene by putting chapter_one inside the parentheses.\n",
    "unique_tokens = set(word_tokenize())\n",
    "\n",
    "# TO DO: Print the unique tokens result by typing unique_tokens inside the parentheses.\n",
    "print()"
   ]
  },
  {
   "cell_type": "markdown",
   "metadata": {},
   "source": [
    "## Fiding Things in Text\n",
    "Nice work! You've already turned raw text into something more useful and easier to work with: a list of all the unique words in Chapter 1 of the book. You'll notice capitalized words are counted as a completely different word from lowercase words, and that punctuation is also counted as its own word. This could make analysis difficult, since we usually want to count forms of the same word together regardless of capitalization, and since in novels we usually don't care about symbols and punctuation (although in tweets, we'd care aobut symbols like @ and \\#). Now let's learn how to search within a text. We'll find the location of the first mention of servants, and create an array of every quote in the first chapter."
   ]
  },
  {
   "cell_type": "code",
   "execution_count": 24,
   "metadata": {},
   "outputs": [
    {
     "name": "stdout",
     "output_type": "stream",
     "text": [
      "(1144, 1152)\n",
      "['My dear Mr. Bennet,', 'have you heard that Netherfield Park is let at last?', 'But it is,', 'for Mrs. Long has just been here, and she told me all about it.', 'Do not you want to know who has taken it?', 'You want to tell me, and I have no objection to hearing it.', 'Why, my dear, you must know, Mrs. Long says that Netherfield is taken by a young man of large fortune from the north of England; that he came down on Monday in a chaise and four to see the place, and was so much delighted with it, that he agreed with Mr. Morris immediately; that he is to take possession before Michaelmas, and some of his servants are to be in the house by the end of next week.', 'What is his name?', 'Bingley.', 'Is he married or single?', 'Oh! single, my dear, to be sure! A single man of large fortune; four or five thousand a year. What a fine thing for our girls!', 'How so? how can it affect them?', 'My dear Mr. Bennet,', 'how can you be so tiresome! You must know that I am thinking of his marrying one of them.', 'Is that his design in settling here?', 'Design! nonsense, how can you talk so! But it is very likely that he may fall in love with one of them, and therefore you must visit him as soon as he comes.', 'I see no occasion for that. You and the girls may go, or you may send them by themselves, which perhaps will be still better, for as you are as handsome as any of them, Mr. Bingley might like you the best of the party.', 'My dear, you flatter me. I certainly have had my share of beauty, but I do not pretend to be any thing extraordinary now. When a woman has five grown-up daughters she ought to give over thinking of her own beauty.', 'In such cases a woman has not often much beauty to think of.', 'But, my dear, you must indeed go and see Mr. Bingley when he comes into the neighbourhood.', 'It is more than I engage for, I assure you.', 'But consider your daughters. Only think what an establishment it would be for one of them. Sir William and Lady Lucas are determined to go, merely on that account, for in general, you know, they visit no new-comers. Indeed you must go, for it will be impossible for us to visit him if you do not.', 'You are over-scrupulous surely. I dare say Mr. Bingley will be very glad to see you; and I will send a few lines by you to assure him of my hearty consent to his marrying whichever he chuses of the girls: though I must throw in a good word for my little Lizzy.', 'I desire you will do no such thing. Lizzy is not a bit better than the others; and I am sure she is not half so handsome as Jane, nor half so good-humoured as Lydia. But you are always giving her the preference.', 'They have none of them much to recommend them,', 'they are all silly and ignorant, like other girls; but Lizzy has something more of quickness than her sisters.', 'Mr. Bennet, how can you abuse your own children in such a way! You take delight in vexing me. You have no compassion on my poor nerves.', 'You mistake me, my dear. I have a high respect for your nerves. They are my old friends. I have heard you mention them with consideration these twenty years at least.', 'Ah! you do not know what I suffer.', 'But I hope you will get over it, and live to see many young men of four thousand a year come into the neighbourhood.', 'It will be no use to us if twenty such should come, since you will not visit them.', 'Depend upon it, my dear, that when there are twenty, I will visit them all.']\n"
     ]
    }
   ],
   "source": [
    "# TO DO: Search for the first occurrence of \"servants\" in scene_one by running re.search on \"servants\"\n",
    "## and chapter_one\n",
    "match = \n",
    "\n",
    "# Print the start and end indexes of match, match.start() and match.end() respectively\n",
    "print()\n",
    "\n",
    "# Write a regular expression to search for quotes. Hint: remember the regex expression should be \n",
    "## r followed by quotation marks, with the expression you want written inside the quotation marks.\n",
    "## The \\ symbol makes sure that the symbol right after it is read literally instead of as a symbol \n",
    "## for some other action. For example, \\. is read as a period instead of as a \"match anything\" \n",
    "## character. Also, put (.+?) inside of the quotes to capture the text inside. Don't worry too much about\n",
    "## the meaning of (.+?) right now.\n",
    "pattern1 = \n",
    "\n",
    "# Inside the parentheses, use re.findall on pattern1 and chapter_one to return an array of every quote in Chapter 1\n",
    "print()"
   ]
  },
  {
   "cell_type": "markdown",
   "metadata": {},
   "source": [
    "## Finding the most common Tokens\n",
    "You've got this! Now, back to the word tokens. We're going to split the chapter into word tokens, conver these to lower case so that all case versions of the same word are counted together, and then print the 10 most common words."
   ]
  },
  {
   "cell_type": "code",
   "execution_count": 41,
   "metadata": {},
   "outputs": [
    {
     "name": "stdout",
     "output_type": "stream",
     "text": [
      "[(',', 50), ('.', 46), ('``', 32), (\"''\", 32), ('you', 31), ('of', 29), ('to', 22), ('a', 21), ('the', 18), ('i', 17)]\n"
     ]
    }
   ],
   "source": [
    "from collections import Counter\n",
    "# TO DO: word_tokenize chapter_one\n",
    "tokens = word_tokenize()\n",
    "\n",
    "# Convert the tokens into lowercase\n",
    "lower_tokens = [t.lower() for t in tokens]\n",
    "\n",
    "# Create a Counter with the lowercase tokens\n",
    "bow_simple = Counter(lower_tokens)\n",
    "\n",
    "# Print the 10 most common tokens\n",
    "print(bow_simple.most_common(10))"
   ]
  },
  {
   "cell_type": "markdown",
   "metadata": {},
   "source": [
    "## Stopwords\n",
    "So... that ended up not being that useful.  We can see that punctuation and filler words make up the bulk of the tokens in this chapter. Luckily, there's a way to get rid of these words, which are called **stop words**. nltk has a built in list of this, but just to give you an idea of what the list looks like, I've spelled out a stopwords list below."
   ]
  },
  {
   "cell_type": "code",
   "execution_count": 42,
   "metadata": {},
   "outputs": [],
   "source": [
    "stopwords = (\"a\", \"about\", \"above\", \"above\", \"across\", \"after\", \"afterwards\", \"again\", \"against\", \"all\", \"almost\", \"alone\", \"along\", \"already\", \"also\",\"although\",\"always\",\"am\",\"among\", \"amongst\", \"amoungst\", \"amount\",  \"an\", \"and\", \"another\", \"any\",\"anyhow\",\"anyone\",\"anything\",\"anyway\", \"anywhere\", \"are\", \"around\", \"as\",  \"at\", \"back\",\"be\",\"became\", \"because\",\"become\",\"becomes\", \"becoming\", \"been\", \"before\", \"beforehand\", \"behind\", \"being\", \"below\", \"beside\", \"besides\", \"between\", \"beyond\", \"bill\", \"both\", \"bottom\",\"but\", \"by\", \"call\", \"can\", \"cannot\", \"cant\", \"co\", \"con\", \"could\", \"couldnt\", \"cry\", \"de\", \"describe\", \"detail\", \"do\", \"done\", \"down\", \"due\", \"during\", \"each\", \"eg\", \"eight\", \"either\", \"eleven\",\"else\", \"elsewhere\", \"empty\", \"enough\", \"etc\", \"even\", \"ever\", \"every\", \"everyone\", \"everything\", \"everywhere\", \"except\", \"few\", \"fifteen\", \"fify\", \"fill\", \"find\", \"fire\", \"first\", \"five\", \"for\", \"former\", \"formerly\", \"forty\", \"found\", \"four\", \"from\", \"front\", \"full\", \"further\", \"get\", \"give\", \"go\", \"had\", \"has\", \"hasnt\", \"have\", \"he\", \"hence\", \"her\", \"here\", \"hereafter\", \"hereby\", \"herein\", \"hereupon\", \"hers\", \"herself\", \"him\", \"himself\", \"his\", \"how\", \"however\", \"hundred\", \"ie\", \"if\", \"in\", \"inc\", \"indeed\", \"interest\", \"into\", \"is\", \"it\", \"its\", \"itself\", \"keep\", \"last\", \"latter\", \"latterly\", \"least\", \"less\", \"ltd\", \"made\", \"many\", \"may\", \"me\", \"meanwhile\", \"might\", \"mill\", \"mine\", \"more\", \"moreover\", \"most\", \"mostly\", \"move\", \"much\", \"must\", \"my\", \"myself\", \"name\", \"namely\", \"neither\", \"never\", \"nevertheless\", \"next\", \"nine\", \"no\", \"nobody\", \"none\", \"noone\", \"nor\", \"not\", \"nothing\", \"now\", \"nowhere\", \"of\", \"off\", \"often\", \"on\", \"once\", \"one\", \"only\", \"onto\", \"or\", \"other\", \"others\", \"otherwise\", \"our\", \"ours\", \"ourselves\", \"out\", \"over\", \"own\",\"part\", \"per\", \"perhaps\", \"please\", \"put\", \"rather\", \"re\", \"same\", \"see\", \"seem\", \"seemed\", \"seeming\", \"seems\", \"serious\", \"several\", \"she\", \"should\", \"show\", \"side\", \"since\", \"sincere\", \"six\", \"sixty\", \"so\", \"some\", \"somehow\", \"someone\", \"something\", \"sometime\", \"sometimes\", \"somewhere\", \"still\", \"such\", \"system\", \"take\", \"ten\", \"than\", \"that\", \"the\", \"their\", \"them\", \"themselves\", \"then\", \"thence\", \"there\", \"thereafter\", \"thereby\", \"therefore\", \"therein\", \"thereupon\", \"these\", \"they\", \"thickv\", \"thin\", \"third\", \"this\", \"those\", \"though\", \"three\", \"through\", \"throughout\", \"thru\", \"thus\", \"to\", \"together\", \"too\", \"top\", \"toward\", \"towards\", \"twelve\", \"twenty\", \"two\", \"un\", \"under\", \"until\", \"up\", \"upon\", \"us\", \"very\", \"via\", \"was\", \"we\", \"well\", \"were\", \"what\", \"whatever\", \"when\", \"whence\", \"whenever\", \"where\", \"whereafter\", \"whereas\", \"whereby\", \"wherein\", \"whereupon\", \"wherever\", \"whether\", \"which\", \"while\", \"whither\", \"who\", \"whoever\", \"whole\", \"whom\", \"whose\", \"why\", \"will\", \"with\", \"within\", \"without\", \"would\", \"yet\", \"you\", \"your\", \"yours\", \"yourself\", \"yourselves\", \"the\")"
   ]
  },
  {
   "cell_type": "markdown",
   "metadata": {},
   "source": [
    "## Lemmatization and Getting Rid of Symbols and Punctuation\n",
    "We'll also import a tool called a lemmatizer.  This will change different forms of a word into the same root.  For example, all versions of \"sing\", \"sang\", and \"sung\" would become \"sing\", and both \"pineapple\" and \"pineapples\" would be counted as \"pineapple.\" Finally, we'll retain only alphabetic words to get rid of those pesky punctuation \"words\" like : and \" that were crowding our arrays of common word tokens. Finally, we'll print the 10 most common words from this new list."
   ]
  },
  {
   "cell_type": "code",
   "execution_count": 44,
   "metadata": {},
   "outputs": [
    {
     "name": "stdout",
     "output_type": "stream",
     "text": [
      "[nltk_data] Downloading package wordnet to\n",
      "[nltk_data]     /Users/brianfriederich/nltk_data...\n",
      "[nltk_data]   Package wordnet is already up-to-date!\n",
      "[('i', 17), ('dear', 8), ('bennet', 6), ('know', 5), ('visit', 5), ('year', 4), (u'girl', 4), (u'come', 4), (u'daughter', 4), ('single', 4)]\n"
     ]
    }
   ],
   "source": [
    "# Import WordNetLemmatizer\n",
    "from nltk.stem import WordNetLemmatizer\n",
    "nltk.download('wordnet')\n",
    "\n",
    "# Retain alphabetic words: alpha_only\n",
    "alpha_only = [t for t in lower_tokens if t.isalpha()]\n",
    "\n",
    "# Remove all stop words: no_stops\n",
    "no_stops = [w for w in alpha_only if w not in stopwords]\n",
    "\n",
    "# Instantiate the WordNetLemmatizer\n",
    "wordnet_lemmatizer = WordNetLemmatizer()\n",
    "\n",
    "# Lemmatize all tokens into a new list\n",
    "lemmatized = [wordnet_lemmatizer.lemmatize(t) for t in no_stops]\n",
    "\n",
    "# Create the bag-of-words\n",
    "bow = Counter(lemmatized)\n",
    "\n",
    "# TO DO: Print the 10 most common tokens by typing 10 into the parentheses.\n",
    "print(bow.most_common())"
   ]
  },
  {
   "cell_type": "markdown",
   "metadata": {},
   "source": [
    "Much better! Notice the words \"girl\", \"come\", and \"daughter\" have been lemmatized so all forms of those words are counted together. Congrats! You've just done your first word frequency analysis!"
   ]
  }
 ],
 "metadata": {
  "kernelspec": {
   "display_name": "Python 3",
   "language": "python",
   "name": "python3"
  },
  "language_info": {
   "codemirror_mode": {
    "name": "ipython",
    "version": 3
   },
   "file_extension": ".py",
   "mimetype": "text/x-python",
   "name": "python",
   "nbconvert_exporter": "python",
   "pygments_lexer": "ipython3",
   "version": "3.6.5"
  }
 },
 "nbformat": 4,
 "nbformat_minor": 2
}
