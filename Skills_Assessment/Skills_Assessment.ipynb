{
 "cells": [
  {
   "cell_type": "markdown",
   "metadata": {},
   "source": [
    "# Data Science Skills Assessment"
   ]
  },
  {
   "cell_type": "markdown",
   "metadata": {},
   "source": [
    "## The Data Science Venn Diagram\n",
    "The definition of what makes a data scientist is maddeningly undefined at times, and the role often bleeds into the related fields of statistics, programming, etc. Data science and programming publishers O'Reily have come up with the following definition, represented by a venn diagram highlighting the skills and expertise required of a mature data scientist. This Summer, we'll be building on the skills we already have in one or two of these circles and rounding out the others on our way to becoming fully-functioning data science practitioners. Run the cell below to display O'Reily's data science venn diagram:\n",
    "\n",
    "*Images in this notebook taken from O'Reily's **[\"Doing Data Science.\"](http://shop.oreilly.com/product/0636920028529.do)***"
   ]
  },
  {
   "cell_type": "code",
   "execution_count": 15,
   "metadata": {},
   "outputs": [
    {
     "data": {
      "image/jpeg": "[encoded data removed]",
      "text/plain": [
       "<IPython.core.display.Image object>"
      ]
     },
     "execution_count": 15,
     "metadata": {
      "image/jpeg": {
       "height": 400,
       "width": 400
      }
     },
     "output_type": "execute_result"
    }
   ],
   "source": [
    "#Install required packages\n",
    "import numpy as np\n",
    "import matplotlib.pyplot as plt\n",
    "%matplotlib inline\n",
    "#Display image from file\n",
    "from IPython.core.display import Image\n",
    "Image(filename = \"DSVenn.jpg\", width=400, height=400)"
   ]
  },
  {
   "cell_type": "markdown",
   "metadata": {},
   "source": [
    "### How to read the Data Science Venn Diagram\n",
    "\n",
    "**The primary \"colors\" of data science: hacking skills, math and stats knowledge, and substantive expertise**\n",
    "\n",
    "These are the three primary skills areas a data scientist develops over time. Very few data scientists will be perfectly competent in all three, especially when starting out, which is why teams need to work together, so the strengths of one team member compliment the skills of another, and all areas are covered as a team. Now on to the zones:\n",
    "\n",
    "* **Hacking Skills:** For better or worse, data is a commodity traded electronically; therefore, in order to be in this market you need to learn to speak basic hacker. This, however, does not require a background in computer science—in fact—many of the most impressive hackers never took a single computer science course. They've learned skills like being able to manipulate text files at the command-line, understanding vectorized operations, thinking algorithmically, etc. through trial and error, and putting in the on-the-job time necessary to get experience working with real data.\n",
    "* **Math and Statistics Knowledge** Once you have acquired and cleaned the data, the next step is to actually extract insights from it. In order to do this, you need to apply appropriate math and statistics methods, which requires at least a baseline familiarity with tools like probability, linear regression, bayes theorum, etc. This is not to say that a PhD in statistics in required to be a competent data scientist, but it does require learning the tools above and how to interpret their results.\n",
    "* **Substantive Expertise** Data plus math and statistics only gets you machine learning, which is great if that is what you are interested in, but not if you are building a real tool for use by real professionals. Serving clients requires some motivating questions about the world and hypotheses that can be brought to data and tested with statistical methods, and how this data can be used to address a problem. On the flip-side, substantive expertise plus math and statistics knowledge is where most traditional researcher falls. Doctoral level researchers spend most of their time acquiring expertise in these areas, but very little time learning about technology. \n",
    "* Finally, a word on the hacking skills plus substantive expertise danger zone. This is where we place people who, \"know enough to be dangerous,\" and is the most problematic area of the diagram. In this area people who are perfectly capable of extracting and structuring data, likely related to a field they know quite a bit about, and probably even know enough statistics to run a linear regression and report the coefficients; but they lack any understanding of what those coefficients mean. It is from this part of the diagram that the phrase \"lies, damned lies, and statistics\" emanates, because either through ignorance or malice this overlap of skills gives people the ability to create what *appears* to be a legitimate analysis without any understanding of how they got there or what they have created. "
   ]
  },
  {
   "cell_type": "markdown",
   "metadata": {},
   "source": [
    "**To Do: ** Please use the space below to reflect on your existing skills in relation to our Scitext Explorer project this Summer. Where do you feel confident? What relative strengths or abilities can you use to help the team? What do you feel you can pick up relatively easily and what might take more time? What areas can you focus on excelling at, and what areas might you focus on building the necessary baseline of understanding over these next 9 weeks to productively coordinate and collaborate with your team members who are likely to specialize in different areas from you?"
   ]
  },
  {
   "cell_type": "markdown",
   "metadata": {},
   "source": [
    "**Answer:** I feel confident in the languages I have previously learned due to already having experience with those languages. I believe my experience with IT and hardware will help the team with certain tasks. Languages can be picked up easy, but the concepts and data structures may take longer. As aforementioned, I'll need to put more focus on the abstract and conceptual ideas in order to build our project upon those ideas.  "
   ]
  },
  {
   "cell_type": "markdown",
   "metadata": {},
   "source": [
    "## Data Science Core Skills\n",
    "We're all going to come into this project with things that we know how to do and thing's we're less sure about *at the moment.* Part of working together as a team is understanding our strengths and employing those, as well as quickly learning new skills to fill in any gaps in the team's skill repertoire. The skills every team needs to develop are listed below:\n",
    "\n",
    "* Computer Science\n",
    "\n",
    "* Math (or in our case on Scitext Explorer, the related field of linguistics)\n",
    "\n",
    "* Statistics\n",
    "\n",
    "* Machine Learning\n",
    "\n",
    "* Domain Expertise\n",
    "\n",
    "* Communication and Presentation\n",
    "\n",
    "* Data Visualization/Design\n",
    "\n",
    "One person's self-assessment of their skills going into a project might look like the following:"
   ]
  },
  {
   "cell_type": "code",
   "execution_count": 1,
   "metadata": {},
   "outputs": [
    {
     "ename": "NameError",
     "evalue": "name 'Image' is not defined",
     "output_type": "error",
     "traceback": [
      "\u001b[1;31m---------------------------------------------------------------------------\u001b[0m",
      "\u001b[1;31mNameError\u001b[0m                                 Traceback (most recent call last)",
      "\u001b[1;32m<ipython-input-1-4c70562962fe>\u001b[0m in \u001b[0;36m<module>\u001b[1;34m()\u001b[0m\n\u001b[0;32m      1\u001b[0m \u001b[1;31m#Display image from file\u001b[0m\u001b[1;33m\u001b[0m\u001b[1;33m\u001b[0m\u001b[0m\n\u001b[1;32m----> 2\u001b[1;33m \u001b[0mImage\u001b[0m\u001b[1;33m(\u001b[0m\u001b[0mfilename\u001b[0m \u001b[1;33m=\u001b[0m \u001b[1;34m\"Data-Science-Profile.png\"\u001b[0m\u001b[1;33m,\u001b[0m \u001b[0mwidth\u001b[0m\u001b[1;33m=\u001b[0m\u001b[1;36m400\u001b[0m\u001b[1;33m,\u001b[0m \u001b[0mheight\u001b[0m\u001b[1;33m=\u001b[0m\u001b[1;36m400\u001b[0m\u001b[1;33m)\u001b[0m\u001b[1;33m\u001b[0m\u001b[0m\n\u001b[0m",
      "\u001b[1;31mNameError\u001b[0m: name 'Image' is not defined"
     ]
    }
   ],
   "source": [
    "#Display image from file\n",
    "Image(filename = \"Data-Science-Profile.png\", width=400, height=400)"
   ]
  },
  {
   "cell_type": "markdown",
   "metadata": {},
   "source": [
    "However, combining the various skills of different members of the team, we get a much more well-rounded picture:"
   ]
  },
  {
   "cell_type": "code",
   "execution_count": 3,
   "metadata": {},
   "outputs": [
    {
     "ename": "NameError",
     "evalue": "name 'Image' is not defined",
     "output_type": "error",
     "traceback": [
      "\u001b[1;31m---------------------------------------------------------------------------\u001b[0m",
      "\u001b[1;31mNameError\u001b[0m                                 Traceback (most recent call last)",
      "\u001b[1;32m<ipython-input-3-3d1750300386>\u001b[0m in \u001b[0;36m<module>\u001b[1;34m()\u001b[0m\n\u001b[0;32m      1\u001b[0m \u001b[1;31m#Display image from file\u001b[0m\u001b[1;33m\u001b[0m\u001b[1;33m\u001b[0m\u001b[0m\n\u001b[1;32m----> 2\u001b[1;33m \u001b[0mImage\u001b[0m\u001b[1;33m(\u001b[0m\u001b[0mfilename\u001b[0m \u001b[1;33m=\u001b[0m \u001b[1;34m\"Profile-of-a-Data-Science-Team.png\"\u001b[0m\u001b[1;33m,\u001b[0m \u001b[0mwidth\u001b[0m\u001b[1;33m=\u001b[0m\u001b[1;36m400\u001b[0m\u001b[1;33m,\u001b[0m \u001b[0mheight\u001b[0m\u001b[1;33m=\u001b[0m\u001b[1;36m400\u001b[0m\u001b[1;33m)\u001b[0m\u001b[1;33m\u001b[0m\u001b[0m\n\u001b[0m",
      "\u001b[1;31mNameError\u001b[0m: name 'Image' is not defined"
     ]
    }
   ],
   "source": [
    "#Display image from file\n",
    "Image(filename = \"Profile-of-a-Data-Science-Team.png\", width=400, height=400)"
   ]
  },
  {
   "cell_type": "markdown",
   "metadata": {},
   "source": [
    "Please complete the following self-assessment of your current skills in each area, (just for your name, listed in alphabetical order) then display the bar chart for your current skills profile. Once you submit a pull request through github, we'll merge your assessments into a team-wide chart. Don't be surprised or discouraged if you rate yourself at 0 for one, two, or even three skill areas; I promise you Booz Allen spent *a lot* of time and effort going through each of your applications, and chose each of you over hundreds of other applicants for this particular team for a reason, to build a well-rounded group with a variety of skills."
   ]
  },
  {
   "cell_type": "code",
   "execution_count": 15,
   "metadata": {},
   "outputs": [
    {
     "name": "stdout",
     "output_type": "stream",
     "text": [
      "Populating the interactive namespace from numpy and matplotlib\n"
     ]
    },
    {
     "data": {
      "image/png": "[encoded data removed]",
      "text/plain": [
       "<Figure size 432x288 with 1 Axes>"
      ]
     },
     "metadata": {},
     "output_type": "display_data"
    }
   ],
   "source": [
    "# TO DO: Rate yourself from 1 to 10 in each of the following skills areas \n",
    "## and run the cell to display your skills bar chart.\n",
    "## Scores in order are \" Data Visualization and Design, Machine Learning, \n",
    "## Mathematics or Linguistics, Statistics, Computer Science, Communications, \n",
    "## and Domain Expertise.\n",
    "import numpy as np\n",
    "\n",
    "%pylab inline\n",
    "import matplotlib.pyplot as plt\n",
    "\n",
    "N = 7\n",
    "Brendan = (2, 7, 7, 5, 9, 7, 4)\n",
    "Perri = (0, 0, 0, 0, 0, 0, 0)\n",
    "Rayan = (0, 0, 0, 0, 0, 0, 0)\n",
    "Sonja = (0, 0, 0, 0, 0, 0, 0)\n",
    "Tom = (0, 0, 0, 0, 0, 0, 0)\n",
    "ind = np.arange(N)    # the x locations for the groups\n",
    "width = 0.35       # the width of the bars: can also be len(x) sequence\n",
    "\n",
    "bars1 = [x + y for x, y in zip(Brendan, Perri)]\n",
    "bars2 = [x + y for x, y in zip(bars1, Rayan)]\n",
    "bars3 = [x + y for x, y in zip(bars2, Sonja)]\n",
    "\n",
    "p1 = plt.bar(ind, Brendan, width, bottom=Brendan)\n",
    "p2 = plt.bar(ind, Perri, width, bottom=Brendan)\n",
    "p3 = plt.bar(ind, Rayan, width, bottom=bars1)\n",
    "p4 = plt.bar(ind, Sonja, width, bottom=bars2)\n",
    "p5 = plt.bar(ind, Tom, width, bottom=bars3)\n",
    "\n",
    "\n",
    "plt.ylabel('Self-Assessment')\n",
    "plt.title('Data Science Self-Assessment')\n",
    "plt.xticks(ind, ('Data Viz', \"Machine Learning\", \"Math/Linguistics\", \"Stats\", \n",
    "                 \"CS\", \"Comms\", \"Domain Expertise\"), rotation = 'vertical')\n",
    "plt.yticks(np.arange(0, 11, 1))\n",
    "\n",
    "plt.show()\n"
   ]
  },
  {
   "cell_type": "code",
   "execution_count": null,
   "metadata": {
    "collapsed": true
   },
   "outputs": [],
   "source": []
  }
 ],
 "metadata": {
  "kernelspec": {
   "display_name": "Python 3",
   "language": "python",
   "name": "python3"
  },
  "language_info": {
   "codemirror_mode": {
    "name": "ipython",
    "version": 3
   },
   "file_extension": ".py",
   "mimetype": "text/x-python",
   "name": "python",
   "nbconvert_exporter": "python",
   "pygments_lexer": "ipython3",
   "version": "3.6.5"
  }
 },
 "nbformat": 4,
 "nbformat_minor": 2
}
