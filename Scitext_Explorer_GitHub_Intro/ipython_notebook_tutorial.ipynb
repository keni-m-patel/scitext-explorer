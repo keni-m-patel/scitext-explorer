{
 "cells": [
  {
   "cell_type": "markdown",
   "metadata": {},
   "source": [
    "# Text Using Markdown\n",
    "\n",
    "**If you double click on this cell**, you will see the text change so that all of the formatting is removed. This allows you to edit this block of text. This block of text is written using [Markdown](https://www.markdownguide.org/cheat-sheet/), which is a way to format text using headers, links, italics, and many other options. Hit _shift_ + _enter_ or _shift_ + _return_ on your keyboard to show the formatted text again. This is called \"running\" the cell, and you can also do it using the run button in the toolbar.\n",
    "\n",
    "\n",
    "\\# hi\n",
    "vs\n",
    "# hi"
   ]
  },
  {
   "cell_type": "markdown",
   "metadata": {},
   "source": [
    "# Code cells\n",
    "\n",
    "One great advantage of IPython notebooks is that you can show your Python code alongside the results, add comments to the code, or even add blocks of text using Markdown. These notebooks allow you to collaborate with others and share your work. The following cell is a code cell."
   ]
  },
  {
   "cell_type": "code",
   "execution_count": 1,
   "metadata": {},
   "outputs": [
    {
     "name": "stdout",
     "output_type": "stream",
     "text": [
      "hello world\n"
     ]
    }
   ],
   "source": [
    "# Hit shift + enter or use the run button to run this cell and see the results\n",
    "\n",
    "print 'hello world'"
   ]
  },
  {
   "cell_type": "code",
   "execution_count": 2,
   "metadata": {},
   "outputs": [
    {
     "data": {
      "text/plain": [
       "6"
      ]
     },
     "execution_count": 2,
     "metadata": {},
     "output_type": "execute_result"
    }
   ],
   "source": [
    "# The last line of every code cell will be displayed by default, \n",
    "# even if you don't print it. Run this cell to see how this works.\n",
    "\n",
    "2 + 2 # The result of this line will not be displayed\n",
    "3 + 3 # The result of this line will be displayed, because it is the last line of the cell"
   ]
  },
  {
   "cell_type": "markdown",
   "metadata": {},
   "source": [
    "# Nicely formatted results\n",
    "\n",
    "IPython notebooks allow you to display nicely formatted results, such as plots and tables, directly in\n",
    "the notebook. You'll learn how to use the following libraries later on in this course, but for now here's a\n",
    "preview of what IPython notebook can do."
   ]
  },
  {
   "cell_type": "code",
   "execution_count": 3,
   "metadata": {},
   "outputs": [
    {
     "data": {
      "text/html": [
       "<div>\n",
       "<table border=\"1\" class=\"dataframe\">\n",
       "  <thead>\n",
       "    <tr style=\"text-align: right;\">\n",
       "      <th></th>\n",
       "      <th>a</th>\n",
       "      <th>b</th>\n",
       "    </tr>\n",
       "  </thead>\n",
       "  <tbody>\n",
       "    <tr>\n",
       "      <th>0</th>\n",
       "      <td>2</td>\n",
       "      <td>1</td>\n",
       "    </tr>\n",
       "    <tr>\n",
       "      <th>1</th>\n",
       "      <td>4</td>\n",
       "      <td>3</td>\n",
       "    </tr>\n",
       "    <tr>\n",
       "      <th>2</th>\n",
       "      <td>6</td>\n",
       "      <td>5</td>\n",
       "    </tr>\n",
       "    <tr>\n",
       "      <th>3</th>\n",
       "      <td>8</td>\n",
       "      <td>7</td>\n",
       "    </tr>\n",
       "  </tbody>\n",
       "</table>\n",
       "</div>"
      ],
      "text/plain": [
       "   a  b\n",
       "0  2  1\n",
       "1  4  3\n",
       "2  6  5\n",
       "3  8  7"
      ]
     },
     "execution_count": 3,
     "metadata": {},
     "output_type": "execute_result"
    }
   ],
   "source": [
    "# If you run this cell, you should see the values displayed as a table.\n",
    "\n",
    "# Pandas is a software library for data manipulation and analysis. You'll learn to use it later in this course.\n",
    "import pandas as pd\n",
    "\n",
    "df = pd.DataFrame({'a': [2, 4, 6, 8], 'b': [1, 3, 5, 7]})\n",
    "df"
   ]
  },
  {
   "cell_type": "code",
   "execution_count": 1,
   "metadata": {},
   "outputs": [
    {
     "name": "stdout",
     "output_type": "stream",
     "text": [
      "Populating the interactive namespace from numpy and matplotlib\n"
     ]
    },
    {
     "data": {
      "text/plain": [
       "<matplotlib.collections.PathCollection at 0x1137bceb8>"
      ]
     },
     "execution_count": 1,
     "metadata": {},
     "output_type": "execute_result"
    },
    {
     "data": {
      "image/png": "[encoded data removed]",
      "text/plain": [
       "<Figure size 432x288 with 1 Axes>"
      ]
     },
     "metadata": {},
     "output_type": "display_data"
    }
   ],
   "source": [
    "# If you run this cell, you should see a scatter plot of the function y = x^2\n",
    "\n",
    "%pylab inline\n",
    "import matplotlib.pyplot as plt\n",
    "\n",
    "xs = range(-30, 31)\n",
    "ys = [x ** 2 for x in xs]\n",
    "\n",
    "plt.scatter(xs, ys)"
   ]
  },
  {
   "cell_type": "markdown",
   "metadata": {},
   "source": [
    "# Creating cells \n",
    " \n",
    "To create a new **code cell**, click \"Insert > Insert Cell [Above or Below]\". A code cell will automatically be created.\n",
    "\n",
    "To create a new **markdown cell**, first follow the process above to create a code cell, then change the type from \"Code\" to \"Markdown\" using the dropdown next to the run, stop, and restart buttons."
   ]
  },
  {
   "cell_type": "markdown",
   "metadata": {},
   "source": [
    "# Re-running cells\n",
    "\n",
    "If you find a bug in your code, you can always update the cell and re-run it. However, any cells that come afterward won't be automatically updated. Try it out below. First run each of the three cells. The first two don't have any output, but you will be able to tell they've run because a number will appear next to them, for example, \"In [5]\". The third cell should output the message \"Intro to Data Analysis is awesome!\""
   ]
  },
  {
   "cell_type": "code",
   "execution_count": 6,
   "metadata": {},
   "outputs": [],
   "source": [
    "class_name = \"Sonj\""
   ]
  },
  {
   "cell_type": "code",
   "execution_count": 12,
   "metadata": {},
   "outputs": [],
   "source": [
    "message = class_name + \" is awesome, woot!\""
   ]
  },
  {
   "cell_type": "code",
   "execution_count": 13,
   "metadata": {},
   "outputs": [
    {
     "data": {
      "text/plain": [
       "'Sonj is awesome, woot!'"
      ]
     },
     "execution_count": 13,
     "metadata": {},
     "output_type": "execute_result"
    }
   ],
   "source": [
    "message"
   ]
  },
  {
   "cell_type": "markdown",
   "metadata": {},
   "source": [
    "Once you've run all three cells, try modifying the first one to set `class_name` to your name, rather than \"This course\", so you can print that you are awesome.  Then rerun the first and third cells without rerunning the second.\n",
    "\n",
    "You should have seen that the third cell still printed \"This course is awesome!\"  That's because you didn't rerun the second cell, so even though the `class_name` variable was updated, the `message` variable was not.  Now try rerunning the second cell, and then the third.\n",
    "\n",
    "You should have seen the output change to \"*your name* is awesome!\"  Often, after changing a cell, you'll want to rerun all the cells below it.  You can do that quickly by clicking \"Cell > Run All Below\".\n",
    "\n",
    "One final thing to remember: if you shut down the kernel after saving your notebook, the cells' output will still show up as you left it at the end of your session when you start the notebook back up. However, the state of the kernel will be reset. If you are actively working on a notebook, remember to re-run your cells to set up your working environment to really pick up where you last left off."
   ]
  },
  {
   "cell_type": "markdown",
   "metadata": {},
   "source": [
    "# Your first commit\n",
    "Now it's time to make your first GitHub Commit. If you navigate back to the GitHub desktop, you should see some committed changes if you click the grey button up top. On the left, you will see a checked button indicating this notebook, and on the right you should see home green and red highlighted text (if you don't try scrolling on the screen on the right until you see red and green highlighting). This is **version control**. By keeping track of what's added (highlighted in green) and what's taken out (highlighted in red) between each time we \"check in\" with our GitHub page online, we can keep track of what changes are made when, and by whom. This can help with debugging later on, so we can see where a bug originated and what coding after the bug might need to be adjusted.\n",
    "\n",
    "Back on the left, at the bottom, you should see two blank text fields: `Summary` and `Description`. `Summary` will be the first thing a person can see when looking back at this commit. The text you input should have the format:\n",
    "```\n",
    "type: Subject\n",
    "```\n",
    "except in the special case you are saving a notebook, in which case it will just say:\n",
    "```\n",
    "Save and Checkpoint\n",
    "```\n",
    "**Types** can be one of the following:\n",
    "\n",
    "* **data:** uploading or changing the data\n",
    "* **feat:** a new feature\n",
    "* **fix:** a bug fix\n",
    "* **docs:** changes to documentation\n",
    "* **style:** formatting, missing semi colons, etc; no code change\n",
    "* **refactor:** refactoring production code\n",
    "* **test:** adding tests, refactoring test; no production code change\n",
    "* **chore:** updating build tasks, package manager configs, etc; no production code change\n",
    "\n",
    "**Subjects** are a short, few word summary of what's been changed, and should begin with a capital and end without punctuation. \n",
    "\n",
    "Use the imperative tone for the first word, for example **Upload dataset** or **Fix spelling** instead of \"uploaded\" or \"fixed\".\n",
    "\n",
    "The **body** is where you give more detail on what exactly was changed, and if it's not self-evident, why. The body should not exceed more than 70 or so characters. Use regular grammar and punctuation in this section.\n",
    "\n",
    "Go ahead and write your first commit, indicating changes you've made to the notebook. After your done, click on the button\n",
    "```\n",
    "Commit to branch\n",
    "```\n",
    "to commit your changes to your local branch. You should do this regularly, and try to keep commits to one change or series of related changes that can be easily summarized."
   ]
  },
  {
   "cell_type": "markdown",
   "metadata": {},
   "source": [
    "# Submitting a pull request\n",
    "Now, locate the button in the top right titled `Pull Request` and click on it. It should open a bar on the right of the screen with the branch you are pushing to and a `Description` field. In the description field, summarize for the team what your commits and changes do as well as how those changes help the project, if it is not self-apparent. Click `Send Pull Request`, and the central repository will receive a request to merge in your changes. It's as simple as that!"
   ]
  },
  {
   "cell_type": "markdown",
   "metadata": {},
   "source": [
    "# Saving and exiting your notebook\n",
    "Finally, go to `File` at the top of this notebook, and click on `Save and Checkpoint` to save your notebook to your local repository before exiting. Make sure before you close the notebook to do one last commit title `Save and Checkpoint` to save your work.\n",
    "\n",
    "*Note: The notebook's kernel will still be running on your machine even after you exit the notebook. To shut it down, hold down the `control` and `c` keys on your computer simultaneously while your bash terminal is open. You should see `Shutdown this notebook server (y/[n])?`. Type `y` and hit enter.*"
   ]
  },
  {
   "cell_type": "code",
   "execution_count": null,
   "metadata": {},
   "outputs": [],
   "source": []
  }
 ],
 "metadata": {
  "kernelspec": {
   "display_name": "Python 3",
   "language": "python",
   "name": "python3"
  },
  "language_info": {
   "codemirror_mode": {
    "name": "ipython",
    "version": 3
   },
   "file_extension": ".py",
   "mimetype": "text/x-python",
   "name": "python",
   "nbconvert_exporter": "python",
   "pygments_lexer": "ipython3",
   "version": "3.6.5"
  }
 },
 "nbformat": 4,
 "nbformat_minor": 1
}
